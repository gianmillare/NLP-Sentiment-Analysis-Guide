{
 "cells": [
  {
   "cell_type": "markdown",
   "id": "c38e7351",
   "metadata": {},
   "source": [
    "# Natural Language Processing - Sentiment Analysis\n",
    "\n",
    "by [Coursera Project Network](https://www.coursera.org/learn/twitter-sentiment-analysis/home/welcome)\n",
    "\n",
    "<hr>"
   ]
  },
  {
   "cell_type": "markdown",
   "id": "cc98d423",
   "metadata": {},
   "source": [
    "### Objective: Use Machine Learning techniques to identify key words and phrases and classify them as a detrimental or beneficial review (positive or negative).\n",
    "\n",
    "<hr>"
   ]
  },
  {
   "cell_type": "code",
   "execution_count": null,
   "id": "403d6733",
   "metadata": {},
   "outputs": [],
   "source": []
  }
 ],
 "metadata": {
  "kernelspec": {
   "display_name": "Python 3",
   "language": "python",
   "name": "python3"
  },
  "language_info": {
   "codemirror_mode": {
    "name": "ipython",
    "version": 3
   },
   "file_extension": ".py",
   "mimetype": "text/x-python",
   "name": "python",
   "nbconvert_exporter": "python",
   "pygments_lexer": "ipython3",
   "version": "3.8.9"
  }
 },
 "nbformat": 4,
 "nbformat_minor": 5
}
